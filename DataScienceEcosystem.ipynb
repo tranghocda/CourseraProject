{
 "cells": [
  {
   "cell_type": "markdown",
   "id": "ca4505fd-4078-40c8-8a8b-e15bbd3fdf58",
   "metadata": {},
   "source": [
    "# Data Science Tools and Ecosystem"
   ]
  },
  {
   "cell_type": "markdown",
   "id": "851cd698-f255-49f1-be00-504e4a7875af",
   "metadata": {},
   "source": [
    "In this notebook, Data Science Tools and Ecosystem are summarized."
   ]
  },
  {
   "cell_type": "markdown",
   "id": "79d0a8e4-b1cd-4dd0-b26a-6d7238fcdd76",
   "metadata": {},
   "source": [
    "## Some of the popular languages that Data Scientists use are:\n",
    "1. Python\n",
    "2. R\n",
    "3. SQL"
   ]
  },
  {
   "cell_type": "markdown",
   "id": "2e4b4ed7-5dab-4102-844c-d3a8a96fe44f",
   "metadata": {},
   "source": [
    "## Some of the commonly used libraries used by Data Scientists include:\n",
    "1. Pandas\n",
    "2. Matplotlib\n",
    "3. Seaborn"
   ]
  },
  {
   "cell_type": "markdown",
   "id": "3ba658d2-1675-4373-b04e-a3e3c4f9a60a",
   "metadata": {
    "tags": []
   },
   "source": [
    "|Data Science Tools|\n",
    "|---|\n",
    "|Jupyter Notebooks |\n",
    "|R Studio |\n",
    "|Google Colab |"
   ]
  },
  {
   "cell_type": "markdown",
   "id": "fb1660ba-45e6-43e2-a93a-8d9d234a74e4",
   "metadata": {
    "tags": []
   },
   "source": [
    "### Below are a few examples of evaluating arithmetic expressions in Python."
   ]
  },
  {
   "cell_type": "code",
   "execution_count": 18,
   "id": "4294c7e2-c1df-48a3-8f4b-182b8f398dea",
   "metadata": {
    "tags": []
   },
   "outputs": [
    {
     "data": {
      "text/plain": [
       "17"
      ]
     },
     "execution_count": 18,
     "metadata": {},
     "output_type": "execute_result"
    }
   ],
   "source": [
    "(3*4)+5\n",
    "# This a simple arithmetic expression to mutiply then add integers"
   ]
  },
  {
   "cell_type": "code",
   "execution_count": 16,
   "id": "cdecc19d-ea17-4f27-9064-64e6e1fd4a89",
   "metadata": {
    "tags": []
   },
   "outputs": [
    {
     "data": {
      "text/plain": [
       "3.3333333333333335"
      ]
     },
     "execution_count": 16,
     "metadata": {},
     "output_type": "execute_result"
    }
   ],
   "source": [
    "200/60\n",
    "# This will convert 200 minutes to hours by diving by 60"
   ]
  },
  {
   "cell_type": "markdown",
   "id": "20fd621b-6e6f-42fb-8421-0fa63924f2ba",
   "metadata": {},
   "source": [
    "### Objectives:\n",
    "+ List popular languages for Data Science\n",
    "+ Some of the commonly used libraries\n",
    "+ Create table in Jupyter Notebook"
   ]
  },
  {
   "cell_type": "markdown",
   "id": "baf465fe-e119-4997-8334-6c105aaa5330",
   "metadata": {},
   "source": [
    "## Author\n",
    "Lakshmi Holla\n",
    "\n",
    "Niveditha Pandith"
   ]
  },
  {
   "cell_type": "code",
   "execution_count": null,
   "id": "7f9806dc-7ce9-49c9-8323-ae31d636d59e",
   "metadata": {},
   "outputs": [],
   "source": []
  }
 ],
 "metadata": {
  "kernelspec": {
   "display_name": "Python",
   "language": "python",
   "name": "conda-env-python-py"
  },
  "language_info": {
   "codemirror_mode": {
    "name": "ipython",
    "version": 3
   },
   "file_extension": ".py",
   "mimetype": "text/x-python",
   "name": "python",
   "nbconvert_exporter": "python",
   "pygments_lexer": "ipython3",
   "version": "3.7.12"
  }
 },
 "nbformat": 4,
 "nbformat_minor": 5
}
